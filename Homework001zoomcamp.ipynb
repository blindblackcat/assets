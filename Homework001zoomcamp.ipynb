{
  "nbformat": 4,
  "nbformat_minor": 0,
  "metadata": {
    "colab": {
      "provenance": [],
      "authorship_tag": "ABX9TyPTw1R3Bb4XFLh9+3eNJ254",
      "include_colab_link": true
    },
    "kernelspec": {
      "name": "python3",
      "display_name": "Python 3"
    },
    "language_info": {
      "name": "python"
    }
  },
  "cells": [
    {
      "cell_type": "markdown",
      "metadata": {
        "id": "view-in-github",
        "colab_type": "text"
      },
      "source": [
        "<a href=\"https://colab.research.google.com/github/blindblackcat/assets/blob/main/Homework001zoomcamp.ipynb\" target=\"_parent\"><img src=\"https://colab.research.google.com/assets/colab-badge.svg\" alt=\"Open In Colab\"/></a>"
      ]
    },
    {
      "cell_type": "markdown",
      "source": [
        "**Module 1 Homework (2025 cohort)- Maria Fernanda Villa**\n",
        "\n",
        "\n",
        "In this homework, we're going to download finance data from various sources and make simple calculations or analysis.\n",
        "\n",
        "Question 1: [Index] S&P 500 Stocks Added to the Index\n",
        "Which year had the highest number of additions?\n",
        "\n",
        "Using the list of S&P 500 companies from Wikipedia's S&P 500 companies page, download the data including the year each company was added to the index.\n",
        "\n",
        "Hint: you can use pandas.read_html to scrape the data into a DataFrame.\n",
        "\n",
        "Steps:\n",
        "\n",
        "Create a DataFrame with company tickers, names, and the year they were added.\n",
        "Extract the year from the addition date and calculate the number of stocks added each year.\n",
        "Which year had the highest number of additions (1957 doesn't count, as it was the year when the S&P 500 index was founded)? Write down this year as your answer (the most recent one, if you have several records).\n",
        "Context:\n",
        "\n",
        "\"Following the announcement, all four new entrants saw their stock prices rise in extended trading on Friday\" - recent examples of S&P 500 additions include DASH, WSM, EXE, TKO in 2025 (Nasdaq article).\n",
        "\n",
        "Additional: How many current S&P 500 stocks have been in the index for more than 20 years? When stocks are added to the S&P 500, they usually experience a price bump as investors and index funds buy shares following the announcement."
      ],
      "metadata": {
        "id": "fSnoKzrGhHAx"
      }
    },
    {
      "cell_type": "code",
      "execution_count": null,
      "metadata": {
        "id": "OaHqbEGIb3LM"
      },
      "outputs": [],
      "source": [
        "!pip install yfinance"
      ]
    },
    {
      "cell_type": "code",
      "source": [
        "# IMPORTS\n",
        "import numpy as np\n",
        "import pandas as pd\n",
        "\n",
        "#Fin Data Sources\n",
        "import yfinance as yf\n",
        "import pandas_datareader as pdr\n",
        "\n",
        "#Data viz\n",
        "import plotly.graph_objs as go\n",
        "import plotly.express as px\n",
        "\n",
        "import time\n",
        "from datetime import datetime\n",
        "from datetime import date"
      ],
      "metadata": {
        "id": "qXcd3wN3cz1q"
      },
      "execution_count": 2,
      "outputs": []
    },
    {
      "cell_type": "code",
      "source": [
        "SP500ListLink=\"https://en.wikipedia.org/wiki/List_of_S%26P_500_companies\"\n",
        "SP500=pd.read_html(SP500ListLink)\n"
      ],
      "metadata": {
        "id": "ETa-kk2idiHf"
      },
      "execution_count": null,
      "outputs": []
    },
    {
      "cell_type": "code",
      "source": [
        "SP500Stocks = SP500[0]\n",
        "SP500Changes = SP500[1]"
      ],
      "metadata": {
        "id": "e-be8GcOd6mA"
      },
      "execution_count": null,
      "outputs": []
    },
    {
      "cell_type": "code",
      "source": [
        "SP500Stocks"
      ],
      "metadata": {
        "id": "Jsxo39pWf7QJ"
      },
      "execution_count": null,
      "outputs": []
    },
    {
      "cell_type": "code",
      "source": [
        "SP500Changes"
      ],
      "metadata": {
        "id": "Jy-lhUyVf92d"
      },
      "execution_count": null,
      "outputs": []
    },
    {
      "cell_type": "code",
      "source": [
        "SP500Stocks[\"Date added\"]=pd.to_datetime(SP500Stocks[\"Date added\"])"
      ],
      "metadata": {
        "id": "OHKZsfoYeJP6"
      },
      "execution_count": null,
      "outputs": []
    },
    {
      "cell_type": "code",
      "source": [
        "pt=pd.pivot_table(SP500Stocks,values=\"Security\",index=\"Date added\",aggfunc=\"count\")"
      ],
      "metadata": {
        "id": "vqMVckW1hpKL"
      },
      "execution_count": null,
      "outputs": []
    },
    {
      "cell_type": "code",
      "source": [
        "yearly=pt.resample(\"YE\").sum().sort_values(by=\"Security\",ascending=False)"
      ],
      "metadata": {
        "id": "tyWuhCWQjAdx"
      },
      "execution_count": null,
      "outputs": []
    },
    {
      "source": [
        "from matplotlib import pyplot as plt\n",
        "yearly.plot(kind='bar', figsize=(20, 10), title='Yearly Changes')\n",
        "plt.show()"
      ],
      "cell_type": "code",
      "metadata": {
        "id": "90OtAnZJlH7x"
      },
      "execution_count": null,
      "outputs": []
    },
    {
      "cell_type": "code",
      "source": [
        "from matplotlib import pyplot as plt\n",
        "pt.plot(kind='line', figsize=(20, 10), title='Yearly Changes')\n",
        "plt.show()"
      ],
      "metadata": {
        "id": "-EgrwHrdjWce"
      },
      "execution_count": null,
      "outputs": []
    },
    {
      "cell_type": "code",
      "source": [
        "Top3 = yearly.nlargest(3,\"Security\")\n",
        "Top3\n"
      ],
      "metadata": {
        "id": "d89Vpqvvl9O3"
      },
      "execution_count": null,
      "outputs": []
    },
    {
      "cell_type": "code",
      "source": [
        "SP500Changes[('Date', 'Date')] = pd.to_datetime(SP500Changes[('Date', 'Date')])\n",
        "mask = SP500Changes[('Date', 'Date')].dt.year.isin([2016, 2017])\n",
        "filtered_df = SP500Changes.loc[mask]\n"
      ],
      "metadata": {
        "id": "aGLVLuTOpA3N"
      },
      "execution_count": null,
      "outputs": []
    },
    {
      "cell_type": "code",
      "source": [
        "filtered_df\n",
        "\n"
      ],
      "metadata": {
        "id": "XmvXVeUxp-FN"
      },
      "execution_count": null,
      "outputs": []
    },
    {
      "cell_type": "code",
      "source": [
        "!pip install bertopic sentence-transformers\n",
        "\n",
        "\n"
      ],
      "metadata": {
        "id": "nRDTt6BPqe9N"
      },
      "execution_count": null,
      "outputs": []
    },
    {
      "cell_type": "code",
      "source": [
        "from bertopic import BERTopic\n",
        "from sentence_transformers import SentenceTransformer\n",
        "import umap.umap_ as umap\n",
        "import pandas as pd\n",
        "import plotly.io as pio\n",
        "\n",
        "\n",
        "pio.renderers.default = \"browser\"\n",
        "\n",
        "\n",
        "texts = SP500Changes[('Reason', 'Reason')].dropna().astype(str).tolist()\n",
        "\n",
        "umap_model = umap.UMAP(\n",
        "    n_neighbors=3,\n",
        "    n_components=2,\n",
        "    min_dist=0.1,\n",
        "    metric='cosine',\n",
        "    random_state=42\n",
        ")\n",
        "\n",
        "\n",
        "embedding_model = SentenceTransformer(\"all-MiniLM-L6-v2\")\n",
        "\n",
        "\n",
        "topic_model = BERTopic(\n",
        "    embedding_model=embedding_model,\n",
        "    umap_model=umap_model,\n",
        "    language=\"english\",\n",
        "    verbose=True\n",
        ")\n",
        "\n",
        "\n",
        "topics, probs = topic_model.fit_transform(texts)\n",
        "\n",
        "\n",
        "topic_info = topic_model.get_topic_info()\n",
        "print(topic_info.head())\n",
        "\n",
        "\n",
        "fig = topic_model.visualize_topics()\n",
        "fig = topic_model.visualize_topics()\n",
        "fig.write_html(\"topics_visualization.html\")\n",
        "from google.colab import files\n",
        "files.download(\"topics_visualization.html\")\n"
      ],
      "metadata": {
        "id": "_4FH8h3SuQrj"
      },
      "execution_count": null,
      "outputs": []
    },
    {
      "cell_type": "markdown",
      "source": [
        "**Answer to question 1:**\n",
        "\n",
        "The Year with the most additions was 2017\n",
        "\n",
        "D1:\n",
        "* Low interest rates made it easy and cheap for companies and private equity firms to finance mergers and acquisitions.\n",
        "\n",
        "* Private equity activity surged, leading to many public companies\n",
        "being acquired and taken private, requiring replacements in the index.\n",
        "\n",
        "* Tech and pharma companies had large cash reserves and used them to:\n",
        "\n",
        "\n",
        "\n",
        "1. Acquire smaller companies\n",
        "2. Spin off divisions\n",
        "3. Restructure operations\n",
        "\n",
        "*  Spin off divisions,Restructure operations,Anticipation of U.S. tax reform under the Trump administration led to a rush of corporate actions before policy changes took effect.\n",
        "\n",
        "D2\n",
        "\n",
        "* Market capitalization shifts triggered index adjustments, as companies grew or shrank relative to others.\n",
        "\n",
        "* Structural changes to the S&P, like the creation of the Real Estate sector in 2016.\n",
        "\n",
        "* These years were marked by unusually high corporate activity, especially in tech, pharma, and private equity  all contributing to the pike."
      ],
      "metadata": {
        "id": "odYfOdO-1sg-"
      }
    },
    {
      "cell_type": "code",
      "source": [
        "SP500ComponentStocks.columns"
      ],
      "metadata": {
        "id": "rnzmN1jG5BH_"
      },
      "execution_count": null,
      "outputs": []
    },
    {
      "cell_type": "code",
      "source": [
        "SP500ComponentStocks[\"TimeInIndex\"]=pd.Timestamp.today()-SP500ComponentStocks[\"Date added\"]\n",
        "SP500ComponentStocks[\"TimeInIndex\"]=SP500ComponentStocks[\"TimeInIndex\"].dt.days/365 #Not 252 days since is datetime year, not financial."
      ],
      "metadata": {
        "id": "aaM51Cu96jVS"
      },
      "execution_count": null,
      "outputs": []
    },
    {
      "cell_type": "code",
      "source": [
        "Y20securities=SP500ComponentStocks[SP500ComponentStocks[\"TimeInIndex\"]>20].sort_values(by=\"TimeInIndex\",ascending=0).reset_index(drop=1)"
      ],
      "metadata": {
        "id": "84GSvrgi8eyx"
      },
      "execution_count": null,
      "outputs": []
    },
    {
      "cell_type": "code",
      "source": [
        "Y20securities"
      ],
      "metadata": {
        "id": "hZEAasd_-VrA"
      },
      "execution_count": null,
      "outputs": []
    },
    {
      "cell_type": "markdown",
      "source": [
        "#Clean The data:\n",
        "\n",
        "1. understand why Date added before foundation date in some securities."
      ],
      "metadata": {
        "id": "M7uYVf21JWcI"
      }
    },
    {
      "cell_type": "code",
      "source": [
        "SP500ComponentStocks[\"Founded_clean\"] = SP500ComponentStocks[\"Founded\"].astype(str).str.extract(r'(\\d{4})')\n",
        "\n",
        "SP500ComponentStocks[\"error\"] = SP500ComponentStocks.apply(\n",
        "    lambda row: (\n",
        "        f\"Error: added in {pd.to_datetime(row['Date added'], errors='coerce').year} \"\n",
        "        f\"but founded in {int(row['Founded_clean'])}\"\n",
        "    )\n",
        "    if pd.notna(row[\"Date added\"])\n",
        "       and pd.notna(row[\"Founded_clean\"])\n",
        "       and pd.to_datetime(row[\"Date added\"], errors='coerce').year < int(row[\"Founded_clean\"])\n",
        "    else None,\n",
        "    axis=1\n",
        ")\n"
      ],
      "metadata": {
        "id": "RMT33tPbKA2U"
      },
      "execution_count": null,
      "outputs": []
    },
    {
      "cell_type": "code",
      "source": [
        "SP500ComponentStocks"
      ],
      "metadata": {
        "id": "gymLv_4NLctZ"
      },
      "execution_count": null,
      "outputs": []
    },
    {
      "cell_type": "code",
      "source": [
        "SP500ComponentStocks[SP500ComponentStocks[\"error\"].notna()][[\"Security\", \"error\"]].reset_index(drop=1)\n"
      ],
      "metadata": {
        "id": "Cx35RotSJlSR"
      },
      "execution_count": null,
      "outputs": []
    },
    {
      "cell_type": "code",
      "source": [
        "error_list = pd.DataFrame({\n",
        "    \"Security\": [\n",
        "        \"AbbVie\", \"Altria\", \"Bank of America\", \"Bristol Myers Squibb\", \"Cigna\", \"Citigroup\", \"ConocoPhillips\",\n",
        "        \"Coterra\", \"CSX Corporation\", \"CVS Health\", \"DTE Energy\", \"Elevance Health\", \"Exelon\", \"ExxonMobil\",\n",
        "        \"JPMorgan Chase\", \"L3Harris\", \"Lockheed Martin\", \"Molson Coors Beverage Company\", \"NextEra Energy\",\n",
        "        \"Northrop Grumman\", \"Paramount Global\", \"Simon Property Group\", \"Tapestry, Inc.\", \"Thermo Fisher Scientific\",\n",
        "        \"TJX Companies\", \"Walgreens Boots Alliance\"\n",
        "    ],\n",
        "    \"error\": [\n",
        "        \"Error: added in 2012 but founded in 2013\", \"Error: added in 1957 but founded in 1985\",\n",
        "        \"Error: added in 1976 but founded in 1998\", \"Error: added in 1957 but founded in 1989\",\n",
        "        \"Error: added in 1976 but founded in 1982\", \"Error: added in 1988 but founded in 1998\",\n",
        "        \"Error: added in 1957 but founded in 2002\", \"Error: added in 2008 but founded in 2021\",\n",
        "        \"Error: added in 1957 but founded in 1980\", \"Error: added in 1957 but founded in 1996\",\n",
        "        \"Error: added in 1957 but founded in 1995\", \"Error: added in 2002 but founded in 2014\",\n",
        "        \"Error: added in 1957 but founded in 2000\", \"Error: added in 1957 but founded in 1999\",\n",
        "        \"Error: added in 1975 but founded in 2000\", \"Error: added in 2008 but founded in 2019\",\n",
        "        \"Error: added in 1957 but founded in 1995\", \"Error: added in 1976 but founded in 2005\",\n",
        "        \"Error: added in 1976 but founded in 1984\", \"Error: added in 1957 but founded in 1994\",\n",
        "        \"Error: added in 1994 but founded in 2019\", \"Error: added in 2002 but founded in 2003\",\n",
        "        \"Error: added in 2004 but founded in 2017\", \"Error: added in 2004 but founded in 2006\",\n",
        "        \"Error: added in 1985 but founded in 1987\", \"Error: added in 1979 but founded in 2014\"\n",
        "    ]\n",
        "})\n",
        "\n",
        "# The corrected founded and S&P 500 added dates for these companies\n",
        "corrections = pd.DataFrame({\n",
        "    \"Security\": [\n",
        "        \"AbbVie\", \"Altria\", \"Bank of America\", \"Bristol Myers Squibb\", \"Cigna\", \"Citigroup\", \"ConocoPhillips\",\n",
        "        \"Coterra\", \"CSX Corporation\", \"CVS Health\", \"DTE Energy\", \"Elevance Health\", \"Exelon\", \"ExxonMobil\",\n",
        "        \"JPMorgan Chase\", \"L3Harris\", \"Lockheed Martin\", \"Molson Coors Beverage Company\", \"NextEra Energy\",\n",
        "        \"Northrop Grumman\", \"Paramount Global\", \"Simon Property Group\", \"Tapestry, Inc.\", \"Thermo Fisher Scientific\",\n",
        "        \"TJX Companies\", \"Walgreens Boots Alliance\"\n",
        "    ],\n",
        "    \"Correct Founded\": [\n",
        "        2012, 1985, 1998, 1989, 1982, 1998, 2002, 2021, 1980, 1963, 1995, 2014, 2000, 1999,\n",
        "        2000, 2019, 1995, 2005, 1984, 1994, 2019, 2003, 2017, 2006, 1987, 2014\n",
        "    ],\n",
        "    \"S&P 500 Added\": [\n",
        "        2012, 1957, 1976, 1957, 1976, 1988, 1957, 2008, 1957, 1997, 1957, 2002, 1957, 1957,\n",
        "        1975, 2008, 1957, 1976, 1976, 1957, 1994, 2002, 2004, 2004, 1985, 1979\n",
        "    ]\n",
        "})\n",
        "\n",
        "\n",
        "\n"
      ],
      "metadata": {
        "id": "AAmKIGuqOtVR"
      },
      "execution_count": null,
      "outputs": []
    },
    {
      "cell_type": "code",
      "source": [
        "# correction dics\n",
        "founded_dict = dict(zip(corrections['Security'], corrections['Correct Founded']))\n",
        "added_dict = dict(zip(corrections['Security'], corrections['S&P 500 Added']))\n",
        "\n",
        "\n",
        "SP500ComponentStocks['Founded'] = SP500ComponentStocks.apply(\n",
        "    lambda row: founded_dict[row['Security']] if row['Security'] in founded_dict else row['Founded'],\n",
        "    axis=1\n",
        ")\n",
        "\n",
        "\n",
        "SP500ComponentStocks['Date added'] = SP500ComponentStocks.apply(\n",
        "    lambda row: added_dict[row['Security']] if row['Security'] in added_dict else row['Date added'],\n",
        "    axis=1\n",
        ")\n",
        "\n",
        "SP500ComponentStocks['Year Added'] = pd.to_datetime(SP500ComponentStocks['Date added'], errors='coerce').dt.year\n",
        "\n"
      ],
      "metadata": {
        "id": "r-UROTyLT1KQ"
      },
      "execution_count": null,
      "outputs": []
    },
    {
      "cell_type": "code",
      "source": [
        "current_year = datetime.now().year\n",
        "SP500ComponentStocks[\"YearsInIndex\"] = current_year - SP500ComponentStocks[\"Year Added\"]\n",
        "\n",
        "over_20_years_count = SP500ComponentStocks[SP500ComponentStocks[\"YearsInIndex\"] >= 20][\"Security\"].nunique()\n",
        "\n",
        "print(\"Número de compañías con más de 20 años en el S&P 500:\", over_20_years_count)\n"
      ],
      "metadata": {
        "id": "PJPHpmcSXEp3"
      },
      "execution_count": null,
      "outputs": []
    },
    {
      "cell_type": "markdown",
      "source": [
        "Answer: 229 companies have been in the index whether under their first foundation name or other."
      ],
      "metadata": {
        "id": "bhvVP_zBXTSq"
      }
    },
    {
      "cell_type": "markdown",
      "source": [
        "Question 2. [Macro] Indexes YTD (as of 1 May 2025)\n",
        "How many indexes (out of 10) have better year-to-date returns than the US (S&P 500) as of May 1, 2025?\n",
        "\n",
        "Using Yahoo Finance World Indices data, compare the year-to-date (YTD) performance (1 January-1 May 2025) of major stock market indexes for the following countries:\n",
        "\n",
        "United States - S&P 500 (^GSPC)\n",
        "China - Shanghai Composite (000001.SS)\n",
        "Hong Kong - HANG SENG INDEX (^HSI)\n",
        "Australia - S&P/ASX 200 (^AXJO)\n",
        "India - Nifty 50 (^NSEI)\n",
        "Canada - S&P/TSX Composite (^GSPTSE)\n",
        "Germany - DAX (^GDAXI)\n",
        "United Kingdom - FTSE 100 (^FTSE)\n",
        "Japan - Nikkei 225 (^N225)\n",
        "Mexico - IPC Mexico (^MXX)\n",
        "Brazil - Ibovespa (^BVSP)\n",
        "Hint: use start_date='2025-01-01' and end_date='2025-05-01' when downloading daily data in yfinance\n",
        "\n",
        "Context:\n",
        "\n",
        "Global Valuations: Who's Cheap, Who's Not? article suggests \"Other regions may be growing faster than the US and you need to diversify.\"\n",
        "\n",
        "Reference: Yahoo Finance World Indices - https://finance.yahoo.com/world-indices/\n",
        "\n",
        "Additional: How many of these indexes have better returns than the S&P 500 over 3, 5, and 10 year periods? Do you see the same trend? Note: For simplicity, ignore currency conversion effects.)"
      ],
      "metadata": {
        "id": "YopWy4Mnb_pN"
      }
    },
    {
      "cell_type": "code",
      "source": [
        "\n",
        "tickers = {\n",
        "    'USA': '^GSPC',\n",
        "    'China': '000001.SS',\n",
        "    'Hong Kong': '^HSI',\n",
        "    'Australia': '^AXJO',\n",
        "    'India': '^NSEI',\n",
        "    'Canada': '^GSPTSE',\n",
        "    'Germany': '^GDAXI',\n",
        "    'UK': '^FTSE',\n",
        "    'Japan': '^N225',\n",
        "    'Mexico': '^MXX',\n",
        "    'Brazil': '^BVSP'\n",
        "}\n",
        "\n",
        "\n",
        "end_date = '2025-05-01'\n",
        "periods = {\n",
        "    'YTD': ('2025-01-01', end_date),\n",
        "    '3Y': ('2022-05-01', end_date),\n",
        "    '5Y': ('2020-05-01', end_date),\n",
        "    '10Y': ('2015-05-01', end_date)\n",
        "}\n",
        "\n",
        "\n",
        "returns_df = pd.DataFrame()\n",
        "\n",
        "\n",
        "earliest_start = '2015-05-01'\n",
        "try:\n",
        "    data = yf.download(list(tickers.values()), start=earliest_start, end=end_date, progress=False)['Close']\n",
        "except Exception as e:\n",
        "    print(f\"Error downloading data: {e}\")\n",
        "    data = pd.DataFrame()"
      ],
      "metadata": {
        "id": "5bdjuJ2G7u8s"
      },
      "execution_count": 32,
      "outputs": []
    },
    {
      "cell_type": "markdown",
      "source": [
        "Nine of the twelve indexes have had better YTD returns than S&P 500"
      ],
      "metadata": {
        "id": "4oGxNKmVirNM"
      }
    },
    {
      "cell_type": "code",
      "source": [
        "for label, (start, end) in periods.items():\n",
        "    returns = {}\n",
        "    start_dt = pd.to_datetime(start)\n",
        "    end_dt = pd.to_datetime(end)\n",
        "\n",
        "    for ticker in tickers.values():\n",
        "        if ticker in data.columns:\n",
        "            series = data[ticker].dropna()\n",
        "            series = series[(series.index >= start_dt) & (series.index <= end_dt)]\n",
        "\n",
        "            if len(series) >= 2:\n",
        "                first_price = series.iloc[0]\n",
        "                last_price = series.iloc[-1]\n",
        "                returns[ticker] = (last_price / first_price - 1) * 100\n",
        "\n",
        "                if label in ['3Y', '5Y', '10Y']:\n",
        "                    years = (end_dt - start_dt).days / 252\n",
        "                    if years > 0:\n",
        "                        returns[ticker] = ((last_price / first_price) ** (1 / years) - 1) * 100\n",
        "            else:\n",
        "                print(f\"Warning: Insufficient data for {ticker} in period {label}\")\n",
        "                returns[ticker] = float('nan')\n",
        "        else:\n",
        "            print(f\"Warning: No data for {ticker} in period {label}\")\n",
        "            returns[ticker] = float('nan')\n",
        "\n",
        "    returns_df[label] = pd.Series(returns)\n",
        "\n",
        "\n",
        "returns_df.index = list(tickers.keys())\n",
        "\n",
        "\n",
        "print(\"Returns (%):\\n\", returns_df.round(2))\n",
        "print(\"\\nNumber of indexes beating USA (S&P 500) per period:\")\n",
        "better_than_usa = (returns_df.gt(returns_df.loc['USA'], axis=1)).sum()\n",
        "print(better_than_usa)\n",
        "\n",
        "\n",
        "nan_counts = returns_df.isna().sum()\n",
        "if nan_counts.sum() > 0:\n",
        "    print(\"\\nIndices with missing data per period:\")\n",
        "    print(nan_counts)"
      ],
      "metadata": {
        "id": "nrU_oEXMhVFM",
        "outputId": "bd699544-f061-4e87-e503-162541f86650",
        "colab": {
          "base_uri": "https://localhost:8080/"
        }
      },
      "execution_count": 33,
      "outputs": [
        {
          "output_type": "stream",
          "name": "stdout",
          "text": [
            "Returns (%):\n",
            "              YTD     3Y     5Y   10Y\n",
            "USA        -5.10   6.96   9.79  6.93\n",
            "China       0.50   1.54   1.82 -2.13\n",
            "Hong Kong  12.72   1.09  -0.90 -1.64\n",
            "Australia  -0.91   2.34   6.23  2.34\n",
            "India       2.49   8.50  14.21  7.67\n",
            "Canada     -0.23   4.29   7.59  3.38\n",
            "Germany    12.35  11.63  11.14  4.66\n",
            "UK          2.84   2.71   5.50  1.36\n",
            "Japan      -8.30   7.04   8.76  4.32\n",
            "Mexico     13.05   1.88   6.20  1.52\n",
            "Brazil     12.44   5.58   7.71  6.09\n",
            "\n",
            "Number of indexes beating USA (S&P 500) per period:\n",
            "YTD    9\n",
            "3Y     3\n",
            "5Y     2\n",
            "10Y    1\n",
            "dtype: int64\n"
          ]
        }
      ]
    },
    {
      "cell_type": "markdown",
      "source": [
        "Over the last 10 years, the U.S. has clearly led global markets — especially with the dominance of tech. But things have started to shift. Around 5 years ago, that lead began to fade, and today we’re seeing something much more pronounced: capital is moving toward emerging markets.\n",
        "\n",
        "This isn’t just investors reacting to the fear of a U.S. recession or political mess, though that’s definitely part of it. There’s also a sense that some emerging countries are genuinely getting their act together. India, Brazil, parts of Southeast Asia, they’re pushing through real reforms, investing in infrastructure, and attracting serious attention.\n",
        "\n",
        "At the same time, the dollar cycle plays a role. When the Fed backs off rate hikes, and the dollar softens, emerging markets often look more attractive. Local currencies get stronger, and returns improve — especially for foreign investors.\n",
        "\n",
        "So overall, it feels like the global dynamic is shifting. The U.S. might still be the long-term anchor, but for now, there’s a clear rotation happening  and emerging markets are finally starting to catch a meaningful bid."
      ],
      "metadata": {
        "id": "mUJ4vPXXvMPL"
      }
    },
    {
      "cell_type": "markdown",
      "source": [
        "Question 3. [Index] S&P 500 Market Corrections Analysis\n",
        "Calculate the median duration (in days) of significant market corrections in the S&P 500 index.\n",
        "\n",
        "For this task, define a correction as an event when a stock index goes down by more than 5% from the closest all-time high maximum.\n",
        "\n",
        "Steps:\n",
        "\n",
        "Download S&P 500 historical data (1950-present) using yfinance\n",
        "Identify all-time high points (where price exceeds all previous prices)\n",
        "For each pair of consecutive all-time highs, find the minimum price in between\n",
        "Calculate drawdown percentages: (high - low) / high × 100\n",
        "Filter for corrections with at least 5% drawdown\n",
        "Calculate the duration in days for each correction period\n",
        "Determine the 25th, 50th (median), and 75th percentiles for correction durations\n",
        "Context:\n",
        "\n",
        "Investors often wonder about the typical length of market corrections when deciding \"when to buy the dip\" (Reddit discussion).\n",
        "A Wealth of Common Sense - How Often Should You Expect a Stock Market Correction?\n",
        "Hint (use this data to compare with your results): Here is the list of top 10 largest corrections by drawdown:\n",
        "\n",
        "2007-10-09 to 2009-03-09: 56.8% drawdown over 517 days\n",
        "2000-03-24 to 2002-10-09: 49.1% drawdown over 929 days\n",
        "1973-01-11 to 1974-10-03: 48.2% drawdown over 630 days\n",
        "1968-11-29 to 1970-05-26: 36.1% drawdown over 543 days\n",
        "2020-02-19 to 2020-03-23: 33.9% drawdown over 33 days\n",
        "1987-08-25 to 1987-12-04: 33.5% drawdown over 101 days\n",
        "1961-12-12 to 1962-06-26: 28.0% drawdown over 196 days\n",
        "1980-11-28 to 1982-08-12: 27.1% drawdown over 622 days\n",
        "2022-01-03 to 2022-10-12: 25.4% drawdown over 282 days\n",
        "1966-02-09 to 1966-10-07: 22.2% drawdown over 240 days"
      ],
      "metadata": {
        "id": "fo36LSCSyLOh"
      }
    },
    {
      "cell_type": "code",
      "source": [
        "sp500_df = yf.download('^GSPC', start='1950-01-01', progress=False)"
      ],
      "metadata": {
        "id": "ezOCDLd72KRD"
      },
      "execution_count": 52,
      "outputs": []
    },
    {
      "cell_type": "code",
      "source": [
        "sp500_df.columns"
      ],
      "metadata": {
        "id": "Hhuph6j22L1d",
        "outputId": "00867d99-bcc3-4828-da77-8534ab008e67",
        "colab": {
          "base_uri": "https://localhost:8080/"
        }
      },
      "execution_count": 53,
      "outputs": [
        {
          "output_type": "execute_result",
          "data": {
            "text/plain": [
              "MultiIndex([( 'Close', '^GSPC'),\n",
              "            (  'High', '^GSPC'),\n",
              "            (   'Low', '^GSPC'),\n",
              "            (  'Open', '^GSPC'),\n",
              "            ('Volume', '^GSPC')],\n",
              "           names=['Price', 'Ticker'])"
            ]
          },
          "metadata": {},
          "execution_count": 53
        }
      ]
    },
    {
      "cell_type": "code",
      "source": [
        "#make a series\n",
        "sp500 = sp500_df[( 'Close', '^GSPC')]\n",
        "sp500_ath = sp500.cummax()\n",
        "\n",
        "\n",
        "new_ath_mask = sp500 == sp500_ath\n",
        "groups = new_ath_mask.cumsum()\n",
        "sp500"
      ],
      "metadata": {
        "id": "RnjmWfvfxTXu",
        "outputId": "869979cc-9a6c-463f-e8cc-0d22d4750a2e",
        "colab": {
          "base_uri": "https://localhost:8080/",
          "height": 521
        }
      },
      "execution_count": 81,
      "outputs": [
        {
          "output_type": "execute_result",
          "data": {
            "text/plain": [
              "Date\n",
              "1950-01-03      16.660000\n",
              "1950-01-04      16.850000\n",
              "1950-01-05      16.930000\n",
              "1950-01-06      16.980000\n",
              "1950-01-09      17.080000\n",
              "                 ...     \n",
              "2025-05-27    5921.540039\n",
              "2025-05-28    5888.549805\n",
              "2025-05-29    5912.169922\n",
              "2025-05-30    5911.689941\n",
              "2025-06-02    5935.939941\n",
              "Name: (Close, ^GSPC), Length: 18974, dtype: float64"
            ],
            "text/html": [
              "<div>\n",
              "<style scoped>\n",
              "    .dataframe tbody tr th:only-of-type {\n",
              "        vertical-align: middle;\n",
              "    }\n",
              "\n",
              "    .dataframe tbody tr th {\n",
              "        vertical-align: top;\n",
              "    }\n",
              "\n",
              "    .dataframe thead tr th {\n",
              "        text-align: left;\n",
              "    }\n",
              "\n",
              "    .dataframe thead tr:last-of-type th {\n",
              "        text-align: right;\n",
              "    }\n",
              "</style>\n",
              "<table border=\"1\" class=\"dataframe\">\n",
              "  <thead>\n",
              "    <tr>\n",
              "      <th></th>\n",
              "      <th>Close</th>\n",
              "    </tr>\n",
              "    <tr>\n",
              "      <th></th>\n",
              "      <th>^GSPC</th>\n",
              "    </tr>\n",
              "    <tr>\n",
              "      <th>Date</th>\n",
              "      <th></th>\n",
              "    </tr>\n",
              "  </thead>\n",
              "  <tbody>\n",
              "    <tr>\n",
              "      <th>1950-01-03</th>\n",
              "      <td>16.660000</td>\n",
              "    </tr>\n",
              "    <tr>\n",
              "      <th>1950-01-04</th>\n",
              "      <td>16.850000</td>\n",
              "    </tr>\n",
              "    <tr>\n",
              "      <th>1950-01-05</th>\n",
              "      <td>16.930000</td>\n",
              "    </tr>\n",
              "    <tr>\n",
              "      <th>1950-01-06</th>\n",
              "      <td>16.980000</td>\n",
              "    </tr>\n",
              "    <tr>\n",
              "      <th>1950-01-09</th>\n",
              "      <td>17.080000</td>\n",
              "    </tr>\n",
              "    <tr>\n",
              "      <th>...</th>\n",
              "      <td>...</td>\n",
              "    </tr>\n",
              "    <tr>\n",
              "      <th>2025-05-27</th>\n",
              "      <td>5921.540039</td>\n",
              "    </tr>\n",
              "    <tr>\n",
              "      <th>2025-05-28</th>\n",
              "      <td>5888.549805</td>\n",
              "    </tr>\n",
              "    <tr>\n",
              "      <th>2025-05-29</th>\n",
              "      <td>5912.169922</td>\n",
              "    </tr>\n",
              "    <tr>\n",
              "      <th>2025-05-30</th>\n",
              "      <td>5911.689941</td>\n",
              "    </tr>\n",
              "    <tr>\n",
              "      <th>2025-06-02</th>\n",
              "      <td>5935.939941</td>\n",
              "    </tr>\n",
              "  </tbody>\n",
              "</table>\n",
              "<p>18974 rows × 1 columns</p>\n",
              "</div><br><label><b>dtype:</b> float64</label>"
            ]
          },
          "metadata": {},
          "execution_count": 81
        }
      ]
    },
    {
      "cell_type": "code",
      "source": [
        "sp500.plot(title=\"EPI's etf stock price\")"
      ],
      "metadata": {
        "id": "7xLhlnHdA4Qe",
        "outputId": "8ba67ec3-6df4-429e-8373-b27d79abc0b5",
        "colab": {
          "base_uri": "https://localhost:8080/",
          "height": 461
        }
      },
      "execution_count": 79,
      "outputs": [
        {
          "output_type": "execute_result",
          "data": {
            "text/plain": [
              "<Axes: title={'center': \"EPI's etf stock price\"}, xlabel='Date'>"
            ]
          },
          "metadata": {},
          "execution_count": 79
        },
        {
          "output_type": "display_data",
          "data": {
            "text/plain": [
              "<Figure size 640x480 with 1 Axes>"
            ],
            "image/png": "[encoded data removed]"
          },
          "metadata": {}
        }
      ]
    },
    {
      "cell_type": "code",
      "source": [
        "corrections = []\n",
        "\n",
        "for grp_id, grp_data in sp500.groupby(groups):\n",
        "    if len(grp_data) < 2:\n",
        "        continue\n",
        "\n",
        "    start_date = grp_data.index[0]\n",
        "    end_date = grp_data.index[-1]\n",
        "    start_price = grp_data.iloc[0]\n",
        "    trough_price = grp_data.min()\n",
        "    trough_date = grp_data.idxmin()\n",
        "\n",
        "    drawdown_pct = (start_price - trough_price) / start_price * 100\n",
        "    duration_days = (trough_date - start_date).days\n",
        "\n",
        "    if drawdown_pct >= 5:\n",
        "        corrections.append({\n",
        "            'Start': start_date,\n",
        "            'Trough': trough_date,\n",
        "            'End': end_date,\n",
        "            'Drawdown %': round(drawdown_pct, 2),\n",
        "            'Duration (days)': duration_days\n",
        "        })\n",
        "\n",
        "corrections_df = pd.DataFrame(corrections)\n"
      ],
      "metadata": {
        "id": "Yf8TY4jt8FBg"
      },
      "execution_count": 55,
      "outputs": []
    },
    {
      "cell_type": "code",
      "source": [
        "corrections_df"
      ],
      "metadata": {
        "id": "aJanME-x-cUh",
        "outputId": "77719625-d1c2-4086-8c27-769054e75bdb",
        "colab": {
          "base_uri": "https://localhost:8080/",
          "height": 424
        }
      },
      "execution_count": 48,
      "outputs": [
        {
          "output_type": "execute_result",
          "data": {
            "text/plain": [
              "        Start     Trough        End  Drawdown %  Duration (days)\n",
              "0  1950-06-12 1950-07-17 1950-09-21       14.02               35\n",
              "1  1950-11-24 1950-12-04 1950-12-27        6.50               10\n",
              "2  1951-05-03 1951-06-29 1951-08-01        8.11               57\n",
              "3  1951-10-15 1951-11-23 1952-01-02        6.08               39\n",
              "4  1952-01-22 1952-02-20 1952-06-24        6.37               29\n",
              "..        ...        ...        ...         ...              ...\n",
              "67 2021-09-02 2021-10-04 2021-10-20        5.21               32\n",
              "68 2022-01-03 2022-10-12 2024-01-18       25.43              282\n",
              "69 2024-03-28 2024-04-19 2024-05-14        5.46               22\n",
              "70 2024-07-16 2024-08-05 2024-09-18        8.49               20\n",
              "71 2025-02-19 2025-04-08 2025-06-02       18.90               48\n",
              "\n",
              "[72 rows x 5 columns]"
            ],
            "text/html": [
              "\n",
              "  <div id=\"df-48e7c6b2-77c9-48d9-997d-346856e3d5e1\" class=\"colab-df-container\">\n",
              "    <div>\n",
              "<style scoped>\n",
              "    .dataframe tbody tr th:only-of-type {\n",
              "        vertical-align: middle;\n",
              "    }\n",
              "\n",
              "    .dataframe tbody tr th {\n",
              "        vertical-align: top;\n",
              "    }\n",
              "\n",
              "    .dataframe thead th {\n",
              "        text-align: right;\n",
              "    }\n",
              "</style>\n",
              "<table border=\"1\" class=\"dataframe\">\n",
              "  <thead>\n",
              "    <tr style=\"text-align: right;\">\n",
              "      <th></th>\n",
              "      <th>Start</th>\n",
              "      <th>Trough</th>\n",
              "      <th>End</th>\n",
              "      <th>Drawdown %</th>\n",
              "      <th>Duration (days)</th>\n",
              "    </tr>\n",
              "  </thead>\n",
              "  <tbody>\n",
              "    <tr>\n",
              "      <th>0</th>\n",
              "      <td>1950-06-12</td>\n",
              "      <td>1950-07-17</td>\n",
              "      <td>1950-09-21</td>\n",
              "      <td>14.02</td>\n",
              "      <td>35</td>\n",
              "    </tr>\n",
              "    <tr>\n",
              "      <th>1</th>\n",
              "      <td>1950-11-24</td>\n",
              "      <td>1950-12-04</td>\n",
              "      <td>1950-12-27</td>\n",
              "      <td>6.50</td>\n",
              "      <td>10</td>\n",
              "    </tr>\n",
              "    <tr>\n",
              "      <th>2</th>\n",
              "      <td>1951-05-03</td>\n",
              "      <td>1951-06-29</td>\n",
              "      <td>1951-08-01</td>\n",
              "      <td>8.11</td>\n",
              "      <td>57</td>\n",
              "    </tr>\n",
              "    <tr>\n",
              "      <th>3</th>\n",
              "      <td>1951-10-15</td>\n",
              "      <td>1951-11-23</td>\n",
              "      <td>1952-01-02</td>\n",
              "      <td>6.08</td>\n",
              "      <td>39</td>\n",
              "    </tr>\n",
              "    <tr>\n",
              "      <th>4</th>\n",
              "      <td>1952-01-22</td>\n",
              "      <td>1952-02-20</td>\n",
              "      <td>1952-06-24</td>\n",
              "      <td>6.37</td>\n",
              "      <td>29</td>\n",
              "    </tr>\n",
              "    <tr>\n",
              "      <th>...</th>\n",
              "      <td>...</td>\n",
              "      <td>...</td>\n",
              "      <td>...</td>\n",
              "      <td>...</td>\n",
              "      <td>...</td>\n",
              "    </tr>\n",
              "    <tr>\n",
              "      <th>67</th>\n",
              "      <td>2021-09-02</td>\n",
              "      <td>2021-10-04</td>\n",
              "      <td>2021-10-20</td>\n",
              "      <td>5.21</td>\n",
              "      <td>32</td>\n",
              "    </tr>\n",
              "    <tr>\n",
              "      <th>68</th>\n",
              "      <td>2022-01-03</td>\n",
              "      <td>2022-10-12</td>\n",
              "      <td>2024-01-18</td>\n",
              "      <td>25.43</td>\n",
              "      <td>282</td>\n",
              "    </tr>\n",
              "    <tr>\n",
              "      <th>69</th>\n",
              "      <td>2024-03-28</td>\n",
              "      <td>2024-04-19</td>\n",
              "      <td>2024-05-14</td>\n",
              "      <td>5.46</td>\n",
              "      <td>22</td>\n",
              "    </tr>\n",
              "    <tr>\n",
              "      <th>70</th>\n",
              "      <td>2024-07-16</td>\n",
              "      <td>2024-08-05</td>\n",
              "      <td>2024-09-18</td>\n",
              "      <td>8.49</td>\n",
              "      <td>20</td>\n",
              "    </tr>\n",
              "    <tr>\n",
              "      <th>71</th>\n",
              "      <td>2025-02-19</td>\n",
              "      <td>2025-04-08</td>\n",
              "      <td>2025-06-02</td>\n",
              "      <td>18.90</td>\n",
              "      <td>48</td>\n",
              "    </tr>\n",
              "  </tbody>\n",
              "</table>\n",
              "<p>72 rows × 5 columns</p>\n",
              "</div>\n",
              "    <div class=\"colab-df-buttons\">\n",
              "\n",
              "  <div class=\"colab-df-container\">\n",
              "    <button class=\"colab-df-convert\" onclick=\"convertToInteractive('df-48e7c6b2-77c9-48d9-997d-346856e3d5e1')\"\n",
              "            title=\"Convert this dataframe to an interactive table.\"\n",
              "            style=\"display:none;\">\n",
              "\n",
              "  <svg xmlns=\"http://www.w3.org/2000/svg\" height=\"24px\" viewBox=\"0 -960 960 960\">\n",
              "    <path d=\"M120-120v-720h720v720H120Zm60-500h600v-160H180v160Zm220 220h160v-160H400v160Zm0 220h160v-160H400v160ZM180-400h160v-160H180v160Zm440 0h160v-160H620v160ZM180-180h160v-160H180v160Zm440 0h160v-160H620v160Z\"/>\n",
              "  </svg>\n",
              "    </button>\n",
              "\n",
              "  <style>\n",
              "    .colab-df-container {\n",
              "      display:flex;\n",
              "      gap: 12px;\n",
              "    }\n",
              "\n",
              "    .colab-df-convert {\n",
              "      background-color: #E8F0FE;\n",
              "      border: none;\n",
              "      border-radius: 50%;\n",
              "      cursor: pointer;\n",
              "      display: none;\n",
              "      fill: #1967D2;\n",
              "      height: 32px;\n",
              "      padding: 0 0 0 0;\n",
              "      width: 32px;\n",
              "    }\n",
              "\n",
              "    .colab-df-convert:hover {\n",
              "      background-color: #E2EBFA;\n",
              "      box-shadow: 0px 1px 2px rgba(60, 64, 67, 0.3), 0px 1px 3px 1px rgba(60, 64, 67, 0.15);\n",
              "      fill: #174EA6;\n",
              "    }\n",
              "\n",
              "    .colab-df-buttons div {\n",
              "      margin-bottom: 4px;\n",
              "    }\n",
              "\n",
              "    [theme=dark] .colab-df-convert {\n",
              "      background-color: #3B4455;\n",
              "      fill: #D2E3FC;\n",
              "    }\n",
              "\n",
              "    [theme=dark] .colab-df-convert:hover {\n",
              "      background-color: #434B5C;\n",
              "      box-shadow: 0px 1px 3px 1px rgba(0, 0, 0, 0.15);\n",
              "      filter: drop-shadow(0px 1px 2px rgba(0, 0, 0, 0.3));\n",
              "      fill: #FFFFFF;\n",
              "    }\n",
              "  </style>\n",
              "\n",
              "    <script>\n",
              "      const buttonEl =\n",
              "        document.querySelector('#df-48e7c6b2-77c9-48d9-997d-346856e3d5e1 button.colab-df-convert');\n",
              "      buttonEl.style.display =\n",
              "        google.colab.kernel.accessAllowed ? 'block' : 'none';\n",
              "\n",
              "      async function convertToInteractive(key) {\n",
              "        const element = document.querySelector('#df-48e7c6b2-77c9-48d9-997d-346856e3d5e1');\n",
              "        const dataTable =\n",
              "          await google.colab.kernel.invokeFunction('convertToInteractive',\n",
              "                                                    [key], {});\n",
              "        if (!dataTable) return;\n",
              "\n",
              "        const docLinkHtml = 'Like what you see? Visit the ' +\n",
              "          '<a target=\"_blank\" href=https://colab.research.google.com/notebooks/data_table.ipynb>data table notebook</a>'\n",
              "          + ' to learn more about interactive tables.';\n",
              "        element.innerHTML = '';\n",
              "        dataTable['output_type'] = 'display_data';\n",
              "        await google.colab.output.renderOutput(dataTable, element);\n",
              "        const docLink = document.createElement('div');\n",
              "        docLink.innerHTML = docLinkHtml;\n",
              "        element.appendChild(docLink);\n",
              "      }\n",
              "    </script>\n",
              "  </div>\n",
              "\n",
              "\n",
              "    <div id=\"df-0dee0301-a58c-4298-a7e0-5e9d80cfb41e\">\n",
              "      <button class=\"colab-df-quickchart\" onclick=\"quickchart('df-0dee0301-a58c-4298-a7e0-5e9d80cfb41e')\"\n",
              "                title=\"Suggest charts\"\n",
              "                style=\"display:none;\">\n",
              "\n",
              "<svg xmlns=\"http://www.w3.org/2000/svg\" height=\"24px\"viewBox=\"0 0 24 24\"\n",
              "     width=\"24px\">\n",
              "    <g>\n",
              "        <path d=\"M19 3H5c-1.1 0-2 .9-2 2v14c0 1.1.9 2 2 2h14c1.1 0 2-.9 2-2V5c0-1.1-.9-2-2-2zM9 17H7v-7h2v7zm4 0h-2V7h2v10zm4 0h-2v-4h2v4z\"/>\n",
              "    </g>\n",
              "</svg>\n",
              "      </button>\n",
              "\n",
              "<style>\n",
              "  .colab-df-quickchart {\n",
              "      --bg-color: #E8F0FE;\n",
              "      --fill-color: #1967D2;\n",
              "      --hover-bg-color: #E2EBFA;\n",
              "      --hover-fill-color: #174EA6;\n",
              "      --disabled-fill-color: #AAA;\n",
              "      --disabled-bg-color: #DDD;\n",
              "  }\n",
              "\n",
              "  [theme=dark] .colab-df-quickchart {\n",
              "      --bg-color: #3B4455;\n",
              "      --fill-color: #D2E3FC;\n",
              "      --hover-bg-color: #434B5C;\n",
              "      --hover-fill-color: #FFFFFF;\n",
              "      --disabled-bg-color: #3B4455;\n",
              "      --disabled-fill-color: #666;\n",
              "  }\n",
              "\n",
              "  .colab-df-quickchart {\n",
              "    background-color: var(--bg-color);\n",
              "    border: none;\n",
              "    border-radius: 50%;\n",
              "    cursor: pointer;\n",
              "    display: none;\n",
              "    fill: var(--fill-color);\n",
              "    height: 32px;\n",
              "    padding: 0;\n",
              "    width: 32px;\n",
              "  }\n",
              "\n",
              "  .colab-df-quickchart:hover {\n",
              "    background-color: var(--hover-bg-color);\n",
              "    box-shadow: 0 1px 2px rgba(60, 64, 67, 0.3), 0 1px 3px 1px rgba(60, 64, 67, 0.15);\n",
              "    fill: var(--button-hover-fill-color);\n",
              "  }\n",
              "\n",
              "  .colab-df-quickchart-complete:disabled,\n",
              "  .colab-df-quickchart-complete:disabled:hover {\n",
              "    background-color: var(--disabled-bg-color);\n",
              "    fill: var(--disabled-fill-color);\n",
              "    box-shadow: none;\n",
              "  }\n",
              "\n",
              "  .colab-df-spinner {\n",
              "    border: 2px solid var(--fill-color);\n",
              "    border-color: transparent;\n",
              "    border-bottom-color: var(--fill-color);\n",
              "    animation:\n",
              "      spin 1s steps(1) infinite;\n",
              "  }\n",
              "\n",
              "  @keyframes spin {\n",
              "    0% {\n",
              "      border-color: transparent;\n",
              "      border-bottom-color: var(--fill-color);\n",
              "      border-left-color: var(--fill-color);\n",
              "    }\n",
              "    20% {\n",
              "      border-color: transparent;\n",
              "      border-left-color: var(--fill-color);\n",
              "      border-top-color: var(--fill-color);\n",
              "    }\n",
              "    30% {\n",
              "      border-color: transparent;\n",
              "      border-left-color: var(--fill-color);\n",
              "      border-top-color: var(--fill-color);\n",
              "      border-right-color: var(--fill-color);\n",
              "    }\n",
              "    40% {\n",
              "      border-color: transparent;\n",
              "      border-right-color: var(--fill-color);\n",
              "      border-top-color: var(--fill-color);\n",
              "    }\n",
              "    60% {\n",
              "      border-color: transparent;\n",
              "      border-right-color: var(--fill-color);\n",
              "    }\n",
              "    80% {\n",
              "      border-color: transparent;\n",
              "      border-right-color: var(--fill-color);\n",
              "      border-bottom-color: var(--fill-color);\n",
              "    }\n",
              "    90% {\n",
              "      border-color: transparent;\n",
              "      border-bottom-color: var(--fill-color);\n",
              "    }\n",
              "  }\n",
              "</style>\n",
              "\n",
              "      <script>\n",
              "        async function quickchart(key) {\n",
              "          const quickchartButtonEl =\n",
              "            document.querySelector('#' + key + ' button');\n",
              "          quickchartButtonEl.disabled = true;  // To prevent multiple clicks.\n",
              "          quickchartButtonEl.classList.add('colab-df-spinner');\n",
              "          try {\n",
              "            const charts = await google.colab.kernel.invokeFunction(\n",
              "                'suggestCharts', [key], {});\n",
              "          } catch (error) {\n",
              "            console.error('Error during call to suggestCharts:', error);\n",
              "          }\n",
              "          quickchartButtonEl.classList.remove('colab-df-spinner');\n",
              "          quickchartButtonEl.classList.add('colab-df-quickchart-complete');\n",
              "        }\n",
              "        (() => {\n",
              "          let quickchartButtonEl =\n",
              "            document.querySelector('#df-0dee0301-a58c-4298-a7e0-5e9d80cfb41e button');\n",
              "          quickchartButtonEl.style.display =\n",
              "            google.colab.kernel.accessAllowed ? 'block' : 'none';\n",
              "        })();\n",
              "      </script>\n",
              "    </div>\n",
              "\n",
              "  <div id=\"id_d944f983-c75d-4f13-97e1-686106bd0294\">\n",
              "    <style>\n",
              "      .colab-df-generate {\n",
              "        background-color: #E8F0FE;\n",
              "        border: none;\n",
              "        border-radius: 50%;\n",
              "        cursor: pointer;\n",
              "        display: none;\n",
              "        fill: #1967D2;\n",
              "        height: 32px;\n",
              "        padding: 0 0 0 0;\n",
              "        width: 32px;\n",
              "      }\n",
              "\n",
              "      .colab-df-generate:hover {\n",
              "        background-color: #E2EBFA;\n",
              "        box-shadow: 0px 1px 2px rgba(60, 64, 67, 0.3), 0px 1px 3px 1px rgba(60, 64, 67, 0.15);\n",
              "        fill: #174EA6;\n",
              "      }\n",
              "\n",
              "      [theme=dark] .colab-df-generate {\n",
              "        background-color: #3B4455;\n",
              "        fill: #D2E3FC;\n",
              "      }\n",
              "\n",
              "      [theme=dark] .colab-df-generate:hover {\n",
              "        background-color: #434B5C;\n",
              "        box-shadow: 0px 1px 3px 1px rgba(0, 0, 0, 0.15);\n",
              "        filter: drop-shadow(0px 1px 2px rgba(0, 0, 0, 0.3));\n",
              "        fill: #FFFFFF;\n",
              "      }\n",
              "    </style>\n",
              "    <button class=\"colab-df-generate\" onclick=\"generateWithVariable('corrections_df')\"\n",
              "            title=\"Generate code using this dataframe.\"\n",
              "            style=\"display:none;\">\n",
              "\n",
              "  <svg xmlns=\"http://www.w3.org/2000/svg\" height=\"24px\"viewBox=\"0 0 24 24\"\n",
              "       width=\"24px\">\n",
              "    <path d=\"M7,19H8.4L18.45,9,17,7.55,7,17.6ZM5,21V16.75L18.45,3.32a2,2,0,0,1,2.83,0l1.4,1.43a1.91,1.91,0,0,1,.58,1.4,1.91,1.91,0,0,1-.58,1.4L9.25,21ZM18.45,9,17,7.55Zm-12,3A5.31,5.31,0,0,0,4.9,8.1,5.31,5.31,0,0,0,1,6.5,5.31,5.31,0,0,0,4.9,4.9,5.31,5.31,0,0,0,6.5,1,5.31,5.31,0,0,0,8.1,4.9,5.31,5.31,0,0,0,12,6.5,5.46,5.46,0,0,0,6.5,12Z\"/>\n",
              "  </svg>\n",
              "    </button>\n",
              "    <script>\n",
              "      (() => {\n",
              "      const buttonEl =\n",
              "        document.querySelector('#id_d944f983-c75d-4f13-97e1-686106bd0294 button.colab-df-generate');\n",
              "      buttonEl.style.display =\n",
              "        google.colab.kernel.accessAllowed ? 'block' : 'none';\n",
              "\n",
              "      buttonEl.onclick = () => {\n",
              "        google.colab.notebook.generateWithVariable('corrections_df');\n",
              "      }\n",
              "      })();\n",
              "    </script>\n",
              "  </div>\n",
              "\n",
              "    </div>\n",
              "  </div>\n"
            ],
            "application/vnd.google.colaboratory.intrinsic+json": {
              "type": "dataframe",
              "variable_name": "corrections_df",
              "summary": "{\n  \"name\": \"corrections_df\",\n  \"rows\": 72,\n  \"fields\": [\n    {\n      \"column\": \"Start\",\n      \"properties\": {\n        \"dtype\": \"date\",\n        \"min\": \"1950-06-12 00:00:00\",\n        \"max\": \"2025-02-19 00:00:00\",\n        \"num_unique_values\": 72,\n        \"samples\": [\n          \"1952-01-22 00:00:00\",\n          \"2018-09-20 00:00:00\",\n          \"1966-02-09 00:00:00\"\n        ],\n        \"semantic_type\": \"\",\n        \"description\": \"\"\n      }\n    },\n    {\n      \"column\": \"Trough\",\n      \"properties\": {\n        \"dtype\": \"date\",\n        \"min\": \"1950-07-17 00:00:00\",\n        \"max\": \"2025-04-08 00:00:00\",\n        \"num_unique_values\": 72,\n        \"samples\": [\n          \"1952-02-20 00:00:00\",\n          \"2018-12-24 00:00:00\",\n          \"1966-10-07 00:00:00\"\n        ],\n        \"semantic_type\": \"\",\n        \"description\": \"\"\n      }\n    },\n    {\n      \"column\": \"End\",\n      \"properties\": {\n        \"dtype\": \"date\",\n        \"min\": \"1950-09-21 00:00:00\",\n        \"max\": \"2025-06-02 00:00:00\",\n        \"num_unique_values\": 72,\n        \"samples\": [\n          \"1952-06-24 00:00:00\",\n          \"2019-04-22 00:00:00\",\n          \"1967-05-03 00:00:00\"\n        ],\n        \"semantic_type\": \"\",\n        \"description\": \"\"\n      }\n    },\n    {\n      \"column\": \"Drawdown %\",\n      \"properties\": {\n        \"dtype\": \"number\",\n        \"std\": 11.007186583978793,\n        \"min\": 5.0,\n        \"max\": 56.78,\n        \"num_unique_values\": 68,\n        \"samples\": [\n          5.7,\n          9.6,\n          6.37\n        ],\n        \"semantic_type\": \"\",\n        \"description\": \"\"\n      }\n    },\n    {\n      \"column\": \"Duration (days)\",\n      \"properties\": {\n        \"dtype\": \"number\",\n        \"std\": 177,\n        \"min\": 7,\n        \"max\": 929,\n        \"num_unique_values\": 55,\n        \"samples\": [\n          113,\n          75,\n          87\n        ],\n        \"semantic_type\": \"\",\n        \"description\": \"\"\n      }\n    }\n  ]\n}"
            }
          },
          "metadata": {},
          "execution_count": 48
        }
      ]
    },
    {
      "cell_type": "code",
      "source": [
        "corrections_df.sort_values(by=\"Drawdown %\",ascending=0).head(10)"
      ],
      "metadata": {
        "id": "2J0XOQ9l8eEj",
        "outputId": "375424d9-028d-47a3-f1a1-954c0df8186f",
        "colab": {
          "base_uri": "https://localhost:8080/",
          "height": 363
        }
      },
      "execution_count": 86,
      "outputs": [
        {
          "output_type": "execute_result",
          "data": {
            "text/plain": [
              "        Start     Trough        End  Drawdown %  Duration (days)\n",
              "56 2007-10-09 2009-03-09 2013-03-27       56.78              517\n",
              "54 2000-03-24 2002-10-09 2007-05-29       49.15              929\n",
              "24 1973-01-11 1974-10-03 1980-07-16       48.20              630\n",
              "22 1968-11-29 1970-05-26 1972-03-03       36.06              543\n",
              "65 2020-02-19 2020-03-23 2020-08-17       33.92               33\n",
              "35 1987-08-25 1987-12-04 1989-07-25       33.51              101\n",
              "15 1961-12-12 1962-06-26 1963-08-30       27.97              196\n",
              "27 1980-11-28 1982-08-12 1982-11-02       27.11              622\n",
              "68 2022-01-03 2022-10-12 2024-01-18       25.43              282\n",
              "18 1966-02-09 1966-10-07 1967-05-03       22.18              240"
            ],
            "text/html": [
              "\n",
              "  <div id=\"df-555aedcc-aea5-456a-a1f6-cb00073274ac\" class=\"colab-df-container\">\n",
              "    <div>\n",
              "<style scoped>\n",
              "    .dataframe tbody tr th:only-of-type {\n",
              "        vertical-align: middle;\n",
              "    }\n",
              "\n",
              "    .dataframe tbody tr th {\n",
              "        vertical-align: top;\n",
              "    }\n",
              "\n",
              "    .dataframe thead th {\n",
              "        text-align: right;\n",
              "    }\n",
              "</style>\n",
              "<table border=\"1\" class=\"dataframe\">\n",
              "  <thead>\n",
              "    <tr style=\"text-align: right;\">\n",
              "      <th></th>\n",
              "      <th>Start</th>\n",
              "      <th>Trough</th>\n",
              "      <th>End</th>\n",
              "      <th>Drawdown %</th>\n",
              "      <th>Duration (days)</th>\n",
              "    </tr>\n",
              "  </thead>\n",
              "  <tbody>\n",
              "    <tr>\n",
              "      <th>56</th>\n",
              "      <td>2007-10-09</td>\n",
              "      <td>2009-03-09</td>\n",
              "      <td>2013-03-27</td>\n",
              "      <td>56.78</td>\n",
              "      <td>517</td>\n",
              "    </tr>\n",
              "    <tr>\n",
              "      <th>54</th>\n",
              "      <td>2000-03-24</td>\n",
              "      <td>2002-10-09</td>\n",
              "      <td>2007-05-29</td>\n",
              "      <td>49.15</td>\n",
              "      <td>929</td>\n",
              "    </tr>\n",
              "    <tr>\n",
              "      <th>24</th>\n",
              "      <td>1973-01-11</td>\n",
              "      <td>1974-10-03</td>\n",
              "      <td>1980-07-16</td>\n",
              "      <td>48.20</td>\n",
              "      <td>630</td>\n",
              "    </tr>\n",
              "    <tr>\n",
              "      <th>22</th>\n",
              "      <td>1968-11-29</td>\n",
              "      <td>1970-05-26</td>\n",
              "      <td>1972-03-03</td>\n",
              "      <td>36.06</td>\n",
              "      <td>543</td>\n",
              "    </tr>\n",
              "    <tr>\n",
              "      <th>65</th>\n",
              "      <td>2020-02-19</td>\n",
              "      <td>2020-03-23</td>\n",
              "      <td>2020-08-17</td>\n",
              "      <td>33.92</td>\n",
              "      <td>33</td>\n",
              "    </tr>\n",
              "    <tr>\n",
              "      <th>35</th>\n",
              "      <td>1987-08-25</td>\n",
              "      <td>1987-12-04</td>\n",
              "      <td>1989-07-25</td>\n",
              "      <td>33.51</td>\n",
              "      <td>101</td>\n",
              "    </tr>\n",
              "    <tr>\n",
              "      <th>15</th>\n",
              "      <td>1961-12-12</td>\n",
              "      <td>1962-06-26</td>\n",
              "      <td>1963-08-30</td>\n",
              "      <td>27.97</td>\n",
              "      <td>196</td>\n",
              "    </tr>\n",
              "    <tr>\n",
              "      <th>27</th>\n",
              "      <td>1980-11-28</td>\n",
              "      <td>1982-08-12</td>\n",
              "      <td>1982-11-02</td>\n",
              "      <td>27.11</td>\n",
              "      <td>622</td>\n",
              "    </tr>\n",
              "    <tr>\n",
              "      <th>68</th>\n",
              "      <td>2022-01-03</td>\n",
              "      <td>2022-10-12</td>\n",
              "      <td>2024-01-18</td>\n",
              "      <td>25.43</td>\n",
              "      <td>282</td>\n",
              "    </tr>\n",
              "    <tr>\n",
              "      <th>18</th>\n",
              "      <td>1966-02-09</td>\n",
              "      <td>1966-10-07</td>\n",
              "      <td>1967-05-03</td>\n",
              "      <td>22.18</td>\n",
              "      <td>240</td>\n",
              "    </tr>\n",
              "  </tbody>\n",
              "</table>\n",
              "</div>\n",
              "    <div class=\"colab-df-buttons\">\n",
              "\n",
              "  <div class=\"colab-df-container\">\n",
              "    <button class=\"colab-df-convert\" onclick=\"convertToInteractive('df-555aedcc-aea5-456a-a1f6-cb00073274ac')\"\n",
              "            title=\"Convert this dataframe to an interactive table.\"\n",
              "            style=\"display:none;\">\n",
              "\n",
              "  <svg xmlns=\"http://www.w3.org/2000/svg\" height=\"24px\" viewBox=\"0 -960 960 960\">\n",
              "    <path d=\"M120-120v-720h720v720H120Zm60-500h600v-160H180v160Zm220 220h160v-160H400v160Zm0 220h160v-160H400v160ZM180-400h160v-160H180v160Zm440 0h160v-160H620v160ZM180-180h160v-160H180v160Zm440 0h160v-160H620v160Z\"/>\n",
              "  </svg>\n",
              "    </button>\n",
              "\n",
              "  <style>\n",
              "    .colab-df-container {\n",
              "      display:flex;\n",
              "      gap: 12px;\n",
              "    }\n",
              "\n",
              "    .colab-df-convert {\n",
              "      background-color: #E8F0FE;\n",
              "      border: none;\n",
              "      border-radius: 50%;\n",
              "      cursor: pointer;\n",
              "      display: none;\n",
              "      fill: #1967D2;\n",
              "      height: 32px;\n",
              "      padding: 0 0 0 0;\n",
              "      width: 32px;\n",
              "    }\n",
              "\n",
              "    .colab-df-convert:hover {\n",
              "      background-color: #E2EBFA;\n",
              "      box-shadow: 0px 1px 2px rgba(60, 64, 67, 0.3), 0px 1px 3px 1px rgba(60, 64, 67, 0.15);\n",
              "      fill: #174EA6;\n",
              "    }\n",
              "\n",
              "    .colab-df-buttons div {\n",
              "      margin-bottom: 4px;\n",
              "    }\n",
              "\n",
              "    [theme=dark] .colab-df-convert {\n",
              "      background-color: #3B4455;\n",
              "      fill: #D2E3FC;\n",
              "    }\n",
              "\n",
              "    [theme=dark] .colab-df-convert:hover {\n",
              "      background-color: #434B5C;\n",
              "      box-shadow: 0px 1px 3px 1px rgba(0, 0, 0, 0.15);\n",
              "      filter: drop-shadow(0px 1px 2px rgba(0, 0, 0, 0.3));\n",
              "      fill: #FFFFFF;\n",
              "    }\n",
              "  </style>\n",
              "\n",
              "    <script>\n",
              "      const buttonEl =\n",
              "        document.querySelector('#df-555aedcc-aea5-456a-a1f6-cb00073274ac button.colab-df-convert');\n",
              "      buttonEl.style.display =\n",
              "        google.colab.kernel.accessAllowed ? 'block' : 'none';\n",
              "\n",
              "      async function convertToInteractive(key) {\n",
              "        const element = document.querySelector('#df-555aedcc-aea5-456a-a1f6-cb00073274ac');\n",
              "        const dataTable =\n",
              "          await google.colab.kernel.invokeFunction('convertToInteractive',\n",
              "                                                    [key], {});\n",
              "        if (!dataTable) return;\n",
              "\n",
              "        const docLinkHtml = 'Like what you see? Visit the ' +\n",
              "          '<a target=\"_blank\" href=https://colab.research.google.com/notebooks/data_table.ipynb>data table notebook</a>'\n",
              "          + ' to learn more about interactive tables.';\n",
              "        element.innerHTML = '';\n",
              "        dataTable['output_type'] = 'display_data';\n",
              "        await google.colab.output.renderOutput(dataTable, element);\n",
              "        const docLink = document.createElement('div');\n",
              "        docLink.innerHTML = docLinkHtml;\n",
              "        element.appendChild(docLink);\n",
              "      }\n",
              "    </script>\n",
              "  </div>\n",
              "\n",
              "\n",
              "    <div id=\"df-ffe60715-c634-428d-b19a-0c15cf78f309\">\n",
              "      <button class=\"colab-df-quickchart\" onclick=\"quickchart('df-ffe60715-c634-428d-b19a-0c15cf78f309')\"\n",
              "                title=\"Suggest charts\"\n",
              "                style=\"display:none;\">\n",
              "\n",
              "<svg xmlns=\"http://www.w3.org/2000/svg\" height=\"24px\"viewBox=\"0 0 24 24\"\n",
              "     width=\"24px\">\n",
              "    <g>\n",
              "        <path d=\"M19 3H5c-1.1 0-2 .9-2 2v14c0 1.1.9 2 2 2h14c1.1 0 2-.9 2-2V5c0-1.1-.9-2-2-2zM9 17H7v-7h2v7zm4 0h-2V7h2v10zm4 0h-2v-4h2v4z\"/>\n",
              "    </g>\n",
              "</svg>\n",
              "      </button>\n",
              "\n",
              "<style>\n",
              "  .colab-df-quickchart {\n",
              "      --bg-color: #E8F0FE;\n",
              "      --fill-color: #1967D2;\n",
              "      --hover-bg-color: #E2EBFA;\n",
              "      --hover-fill-color: #174EA6;\n",
              "      --disabled-fill-color: #AAA;\n",
              "      --disabled-bg-color: #DDD;\n",
              "  }\n",
              "\n",
              "  [theme=dark] .colab-df-quickchart {\n",
              "      --bg-color: #3B4455;\n",
              "      --fill-color: #D2E3FC;\n",
              "      --hover-bg-color: #434B5C;\n",
              "      --hover-fill-color: #FFFFFF;\n",
              "      --disabled-bg-color: #3B4455;\n",
              "      --disabled-fill-color: #666;\n",
              "  }\n",
              "\n",
              "  .colab-df-quickchart {\n",
              "    background-color: var(--bg-color);\n",
              "    border: none;\n",
              "    border-radius: 50%;\n",
              "    cursor: pointer;\n",
              "    display: none;\n",
              "    fill: var(--fill-color);\n",
              "    height: 32px;\n",
              "    padding: 0;\n",
              "    width: 32px;\n",
              "  }\n",
              "\n",
              "  .colab-df-quickchart:hover {\n",
              "    background-color: var(--hover-bg-color);\n",
              "    box-shadow: 0 1px 2px rgba(60, 64, 67, 0.3), 0 1px 3px 1px rgba(60, 64, 67, 0.15);\n",
              "    fill: var(--button-hover-fill-color);\n",
              "  }\n",
              "\n",
              "  .colab-df-quickchart-complete:disabled,\n",
              "  .colab-df-quickchart-complete:disabled:hover {\n",
              "    background-color: var(--disabled-bg-color);\n",
              "    fill: var(--disabled-fill-color);\n",
              "    box-shadow: none;\n",
              "  }\n",
              "\n",
              "  .colab-df-spinner {\n",
              "    border: 2px solid var(--fill-color);\n",
              "    border-color: transparent;\n",
              "    border-bottom-color: var(--fill-color);\n",
              "    animation:\n",
              "      spin 1s steps(1) infinite;\n",
              "  }\n",
              "\n",
              "  @keyframes spin {\n",
              "    0% {\n",
              "      border-color: transparent;\n",
              "      border-bottom-color: var(--fill-color);\n",
              "      border-left-color: var(--fill-color);\n",
              "    }\n",
              "    20% {\n",
              "      border-color: transparent;\n",
              "      border-left-color: var(--fill-color);\n",
              "      border-top-color: var(--fill-color);\n",
              "    }\n",
              "    30% {\n",
              "      border-color: transparent;\n",
              "      border-left-color: var(--fill-color);\n",
              "      border-top-color: var(--fill-color);\n",
              "      border-right-color: var(--fill-color);\n",
              "    }\n",
              "    40% {\n",
              "      border-color: transparent;\n",
              "      border-right-color: var(--fill-color);\n",
              "      border-top-color: var(--fill-color);\n",
              "    }\n",
              "    60% {\n",
              "      border-color: transparent;\n",
              "      border-right-color: var(--fill-color);\n",
              "    }\n",
              "    80% {\n",
              "      border-color: transparent;\n",
              "      border-right-color: var(--fill-color);\n",
              "      border-bottom-color: var(--fill-color);\n",
              "    }\n",
              "    90% {\n",
              "      border-color: transparent;\n",
              "      border-bottom-color: var(--fill-color);\n",
              "    }\n",
              "  }\n",
              "</style>\n",
              "\n",
              "      <script>\n",
              "        async function quickchart(key) {\n",
              "          const quickchartButtonEl =\n",
              "            document.querySelector('#' + key + ' button');\n",
              "          quickchartButtonEl.disabled = true;  // To prevent multiple clicks.\n",
              "          quickchartButtonEl.classList.add('colab-df-spinner');\n",
              "          try {\n",
              "            const charts = await google.colab.kernel.invokeFunction(\n",
              "                'suggestCharts', [key], {});\n",
              "          } catch (error) {\n",
              "            console.error('Error during call to suggestCharts:', error);\n",
              "          }\n",
              "          quickchartButtonEl.classList.remove('colab-df-spinner');\n",
              "          quickchartButtonEl.classList.add('colab-df-quickchart-complete');\n",
              "        }\n",
              "        (() => {\n",
              "          let quickchartButtonEl =\n",
              "            document.querySelector('#df-ffe60715-c634-428d-b19a-0c15cf78f309 button');\n",
              "          quickchartButtonEl.style.display =\n",
              "            google.colab.kernel.accessAllowed ? 'block' : 'none';\n",
              "        })();\n",
              "      </script>\n",
              "    </div>\n",
              "\n",
              "    </div>\n",
              "  </div>\n"
            ],
            "application/vnd.google.colaboratory.intrinsic+json": {
              "type": "dataframe",
              "summary": "{\n  \"name\": \"corrections_df\",\n  \"rows\": 10,\n  \"fields\": [\n    {\n      \"column\": \"Start\",\n      \"properties\": {\n        \"dtype\": \"date\",\n        \"min\": \"1961-12-12 00:00:00\",\n        \"max\": \"2022-01-03 00:00:00\",\n        \"num_unique_values\": 10,\n        \"samples\": [\n          \"2022-01-03 00:00:00\",\n          \"2000-03-24 00:00:00\",\n          \"1987-08-25 00:00:00\"\n        ],\n        \"semantic_type\": \"\",\n        \"description\": \"\"\n      }\n    },\n    {\n      \"column\": \"Trough\",\n      \"properties\": {\n        \"dtype\": \"date\",\n        \"min\": \"1962-06-26 00:00:00\",\n        \"max\": \"2022-10-12 00:00:00\",\n        \"num_unique_values\": 10,\n        \"samples\": [\n          \"2022-10-12 00:00:00\",\n          \"2002-10-09 00:00:00\",\n          \"1987-12-04 00:00:00\"\n        ],\n        \"semantic_type\": \"\",\n        \"description\": \"\"\n      }\n    },\n    {\n      \"column\": \"End\",\n      \"properties\": {\n        \"dtype\": \"date\",\n        \"min\": \"1963-08-30 00:00:00\",\n        \"max\": \"2024-01-18 00:00:00\",\n        \"num_unique_values\": 10,\n        \"samples\": [\n          \"2024-01-18 00:00:00\",\n          \"2007-05-29 00:00:00\",\n          \"1989-07-25 00:00:00\"\n        ],\n        \"semantic_type\": \"\",\n        \"description\": \"\"\n      }\n    },\n    {\n      \"column\": \"Drawdown %\",\n      \"properties\": {\n        \"dtype\": \"number\",\n        \"std\": 11.596559307733385,\n        \"min\": 22.18,\n        \"max\": 56.78,\n        \"num_unique_values\": 10,\n        \"samples\": [\n          25.43,\n          49.15,\n          33.51\n        ],\n        \"semantic_type\": \"\",\n        \"description\": \"\"\n      }\n    },\n    {\n      \"column\": \"Duration (days)\",\n      \"properties\": {\n        \"dtype\": \"number\",\n        \"std\": 282,\n        \"min\": 33,\n        \"max\": 929,\n        \"num_unique_values\": 10,\n        \"samples\": [\n          282,\n          929,\n          101\n        ],\n        \"semantic_type\": \"\",\n        \"description\": \"\"\n      }\n    }\n  ]\n}"
            }
          },
          "metadata": {},
          "execution_count": 86
        }
      ]
    },
    {
      "cell_type": "code",
      "source": [
        "duration_average = corrections_df['Duration (days)'].mean()\n",
        "duration_max=corrections_df['Duration (days)'].max()\n",
        "duration_min=corrections_df['Duration (days)'].min()\n",
        "duration_average"
      ],
      "metadata": {
        "id": "mV5Itcvh6ImT",
        "outputId": "4f4127fa-261d-439d-e0aa-a3f6b0f9cb37",
        "colab": {
          "base_uri": "https://localhost:8080/"
        }
      },
      "execution_count": 60,
      "outputs": [
        {
          "output_type": "execute_result",
          "data": {
            "text/plain": [
              "np.float64(112.19444444444444)"
            ]
          },
          "metadata": {},
          "execution_count": 60
        }
      ]
    },
    {
      "cell_type": "markdown",
      "source": [
        "Average duration of correections is 113"
      ],
      "metadata": {
        "id": "te5AHivN57pa"
      }
    },
    {
      "cell_type": "markdown",
      "source": [
        "Question 4. [Stocks] Earnings Surprise Analysis for Amazon (AMZN)\n",
        "Calculate the median 2-day percentage change in stock prices following positive earnings surprises days.\n",
        "\n",
        "Steps:\n",
        "\n",
        "Load earnings data from CSV (ha1_Amazon.csv) containing earnings dates, EPS estimates, and actual EPS. Make sure you are using the correct delimiter to read the data, such as in this command python pandas.read_csv(\"ha1_Amazon.csv\", delimiter=';')\n",
        "Download complete historical price data using yfinance\n",
        "Calculate 2-day percentage changes for all historical dates: for each sequence of 3 consecutive trading days (Day 1, Day 2, Day 3), compute the return as Close_Day3 / Close_Day1 - 1. (Assume Day 2 may correspond to the earnings announcement.)\n",
        "Identify positive earnings surprises (where \"actual EPS > estimated EPS\"). Both fields should be present in the file. You should obtain 36 data points for use in the descriptive analysis (median) later.\n",
        "Calculate 2-day percentage changes following positive earnings surprises. Show your answer in % (closest number to the 2nd digit): return * 100.0\n",
        "(Optional) Compare the median 2-day percentage change for positive surprises vs. all historical dates. Do you see the difference?\n",
        "Context: Earnings announcements, especially when they exceed analyst expectations, can significantly impact stock prices in the short term.\n",
        "\n",
        "Reference: Yahoo Finance earnings calendar - https://finance.yahoo.com/calendar/earnings?symbol=AMZN\n",
        "\n",
        "Additional: Is there a correlation between the magnitude of the earnings surprise and the stock price reaction? Does the market react differently to earnings surprises during bull vs. bear markets?)"
      ],
      "metadata": {
        "id": "qmZuug0hG4sG"
      }
    }
  ]
}